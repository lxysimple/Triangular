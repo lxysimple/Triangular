{
 "cells": [
  {
   "cell_type": "markdown",
   "id": "6c338d79-bff4-426d-8b05-19fcaddbafb5",
   "metadata": {},
   "source": [
    "## 命令行训练方式"
   ]
  },
  {
   "cell_type": "code",
   "execution_count": 11,
   "id": "774c8476-0a8a-421b-a602-d108de53dcbd",
   "metadata": {},
   "outputs": [
    {
     "name": "stdout",
     "output_type": "stream",
     "text": [
      "当前工作目录: E:\\mmpose\n"
     ]
    }
   ],
   "source": [
    "# 更改当前目录\n",
    "import os\n",
    "\n",
    "os.chdir('mmpose')\n",
    "current_directory = os.getcwd()\n",
    "print(\"当前工作目录:\", current_directory)"
   ]
  },
  {
   "cell_type": "code",
   "execution_count": null,
   "id": "ef42087d-8ff3-433e-a06d-3bdeff6614d7",
   "metadata": {},
   "outputs": [],
   "source": [
    "# 目标检测算法：Faster R CNN\n",
    "# 建议在命令行中运行，file->new->terminal\n",
    "# 在work_dirs目录下，查看训练日志和训练得到的模型权重文件\n",
    "# 注意配置文件中如果目录是相对路径，要根据jupyter notebook中的当前目录而进行改变\n",
    "\n",
    "!python mmdetection/tools/train.py data/faster_r_cnn_triangle.py"
   ]
  },
  {
   "cell_type": "code",
   "execution_count": null,
   "id": "cb5079c6-75c5-4c1b-a258-a47d210d45dd",
   "metadata": {},
   "outputs": [],
   "source": [
    "# 目标检测算法：RTMDet\n",
    "!python mmdetection/tools/train.py data/rtmdet_tiny_triangle.py"
   ]
  },
  {
   "cell_type": "markdown",
   "id": "fdd2779d-859f-4121-b013-c37e048f196c",
   "metadata": {},
   "source": [
    "## 命令行中进行测试并评估精度"
   ]
  },
  {
   "cell_type": "code",
   "execution_count": null,
   "id": "08f57375-15fd-4a7d-9b1c-71ae1e2a5647",
   "metadata": {},
   "outputs": [],
   "source": [
    "!python mmdetection/tools/test.py data/rtmdet_tiny_triangle.py \\\n",
    "                      checkpoint/rtmdet_tiny_triangle_epoch_200_202305120847-3cd02a8f.pth"
   ]
  },
  {
   "cell_type": "code",
   "execution_count": null,
   "id": "0d06c6b4-12cc-4667-a802-263097060cf1",
   "metadata": {},
   "outputs": [],
   "source": []
  }
 ],
 "metadata": {
  "kernelspec": {
   "display_name": "openmmlab",
   "language": "python",
   "name": "openmmlab"
  },
  "language_info": {
   "codemirror_mode": {
    "name": "ipython",
    "version": 3
   },
   "file_extension": ".py",
   "mimetype": "text/x-python",
   "name": "python",
   "nbconvert_exporter": "python",
   "pygments_lexer": "ipython3",
   "version": "3.8.16"
  }
 },
 "nbformat": 4,
 "nbformat_minor": 5
}
