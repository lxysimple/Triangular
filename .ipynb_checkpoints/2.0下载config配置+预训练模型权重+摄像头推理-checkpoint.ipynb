{
 "cells": [
  {
   "cell_type": "markdown",
   "id": "878f0aa8",
   "metadata": {},
   "source": [
    "## 目标检测-下载config配置文件至`data`目录"
   ]
  },
  {
   "cell_type": "code",
   "execution_count": null,
   "id": "e478810f",
   "metadata": {},
   "outputs": [],
   "source": [
    "# windows电脑要复制网址手动下载\n",
    "# Faster R CNN 三角板目标检测\n",
    "!rm -rf data/faster_r_cnn_triangle.py\n",
    "!wget https://zihao-openmmlab.obs.myhuaweicloud.com/20220610-mmpose/triangle_dataset/faster_r_cnn_triangle.py -P data"
   ]
  },
  {
   "cell_type": "code",
   "execution_count": null,
   "id": "8ade9976",
   "metadata": {},
   "outputs": [],
   "source": [
    "# RTMDet-Tiny 三角板目标检测\n",
    "!rm -rf data/rtmdet_tiny_triangle.py\n",
    "!wget https://zihao-openmmlab.obs.myhuaweicloud.com/20220610-mmpose/triangle_dataset/rtmdet_tiny_triangle.py -P data"
   ]
  },
  {
   "cell_type": "markdown",
   "id": "5ed35bef",
   "metadata": {},
   "source": [
    "## 目标检测-下载模型预训练权重文件至`checkpoint`目录"
   ]
  },
  {
   "cell_type": "code",
   "execution_count": null,
   "id": "f3ed1cba",
   "metadata": {},
   "outputs": [],
   "source": [
    "# Faster R CNN 三角板目标检测\n",
    "!rm -rf checkpoint/faster_r_cnn_triangle_epoch_50_202305120846-76d9dde3.pth\n",
    "!wget https://zihao-openmmlab.obs.cn-east-3.myhuaweicloud.com/20220610-mmpose/triangle_dataset/ckpt/0512/faster_r_cnn_triangle_epoch_50_202305120846-76d9dde3.pth -P checkpoint"
   ]
  },
  {
   "cell_type": "code",
   "execution_count": null,
   "id": "ec097063",
   "metadata": {},
   "outputs": [],
   "source": [
    "# RTMDet-S 三角板目标检测\n",
    "!rm -rf checkpoint/rtmdet_tiny_triangle_epoch_200_202305120847-3cd02a8f.pth\n",
    "!wget https://zihao-openmmlab.obs.cn-east-3.myhuaweicloud.com/20220610-mmpose/triangle_dataset/ckpt/0512/rtmdet_tiny_triangle_epoch_200_202305120847-3cd02a8f.pth -P checkpoint"
   ]
  },
  {
   "cell_type": "markdown",
   "id": "ec118855-3c68-46c3-bb5c-98790aab6192",
   "metadata": {},
   "source": [
    "## 目标检测-推理"
   ]
  },
  {
   "cell_type": "code",
   "execution_count": null,
   "id": "5ba42bec-8fe2-412f-9c8b-75db91b4e8be",
   "metadata": {},
   "outputs": [],
   "source": [
    "# 按ESC键退出\n",
    "# 直接用目标检测的预训练模型在摄像头中进行推理\n",
    "!python mmdetection/demo/webcam_demo.py \\\n",
    "        data/rtmdet_tiny_triangle.py \\\n",
    "        checkpoint/rtmdet_tiny_triangle_epoch_200_202305120847-3cd02a8f.pth \\\n",
    "        --device cuda \\\n",
    "        --camera-id 0 \\\n",
    "        --score-thr 0.5"
   ]
  },
  {
   "cell_type": "markdown",
   "id": "5ae5bf14-b1cd-4bc2-989b-d660a7c2b981",
   "metadata": {},
   "source": [
    "## 关键点检测-下载config配置文件至`data`目录"
   ]
  },
  {
   "cell_type": "code",
   "execution_count": null,
   "id": "7298ebef-010c-42fc-bf24-78890a1a5382",
   "metadata": {},
   "outputs": [],
   "source": [
    "# RTMPose-S 三角板关键点检测\n",
    "!rm -rf data/rtmpose-s_triangle_8xb256-420e_coco-256x192.py\n",
    "!wget https://zihao-openmmlab.obs.cn-east-3.myhuaweicloud.com/20220610-mmpose/triangle_dataset/rtmpose-s_triangle_8xb256-420e_coco-256x192.py -P data"
   ]
  },
  {
   "cell_type": "markdown",
   "id": "d62ac469-088d-4c3c-91b8-986f23a33822",
   "metadata": {},
   "source": [
    "## 关键点检测-下载模型预训练权重文件至`checkpoint`目录"
   ]
  },
  {
   "cell_type": "code",
   "execution_count": null,
   "id": "0e1140eb-7551-41ea-be05-df4cedb70079",
   "metadata": {},
   "outputs": [],
   "source": [
    "# RTMDet-S 三角板目标检测\n",
    "!rm -rf checkpoint/rtmpose_s_triangle_300-34bfaeb2_20230512.pth\n",
    "!wget https://zihao-openmmlab.obs.cn-east-3.myhuaweicloud.com/20220610-mmpose/triangle_dataset/ckpt/0512/rtmpose_s_triangle_300-34bfaeb2_20230512.pth -P checkpoint"
   ]
  },
  {
   "cell_type": "markdown",
   "id": "187f2e30-fdb5-40ab-97b6-e456007be4c3",
   "metadata": {},
   "source": [
    "## 关键点检测-推理"
   ]
  },
  {
   "cell_type": "code",
   "execution_count": null,
   "id": "416437c5-4030-471d-991c-ea8bf288d504",
   "metadata": {},
   "outputs": [],
   "source": [
    "# 按ESC键退出\n",
    "# RTMDet --> RTMPose\n",
    "!python mmpose/demo/topdown_demo_with_mmdet.py \\\n",
    "        data/rtmdet_tiny_triangle.py \\\n",
    "        checkpoint/rtmdet_tiny_triangle_epoch_200_202305120847-3cd02a8f.pth \\\n",
    "        data/rtmpose-s-triangle.py \\\n",
    "        checkpoint/rtmpose_s_triangle_300-34bfaeb2_20230512.pth \\\n",
    "        --input webcam \\\n",
    "        --output-root outputs/C2_Video \\\n",
    "        --device cuda \\\n",
    "        --bbox-thr 0.6 \\\n",
    "        --kpt-thr 0.5 \\\n",
    "        --nms-thr 0.3 \\\n",
    "        --radius 16 \\\n",
    "        --thickness 3 \\\n",
    "        --draw-bbox \\\n",
    "        --draw-heatmap \\\n",
    "        --show-kpt-idx \\\n",
    "        --show "
   ]
  }
 ],
 "metadata": {
  "kernelspec": {
   "display_name": "openmmlab",
   "language": "python",
   "name": "openmmlab"
  },
  "language_info": {
   "codemirror_mode": {
    "name": "ipython",
    "version": 3
   },
   "file_extension": ".py",
   "mimetype": "text/x-python",
   "name": "python",
   "nbconvert_exporter": "python",
   "pygments_lexer": "ipython3",
   "version": "3.8.16"
  }
 },
 "nbformat": 4,
 "nbformat_minor": 5
}
