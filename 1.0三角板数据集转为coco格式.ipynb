{
 "cells": [
  {
   "cell_type": "markdown",
   "id": "d16cb5c3-1b43-4d2a-ba5d-af8f74c00c2e",
   "metadata": {
    "tags": []
   },
   "source": [
    "## 下载数据集"
   ]
  },
  {
   "cell_type": "code",
   "execution_count": 3,
   "id": "b663508f-6700-4a9a-a0a0-6e01373f4411",
   "metadata": {},
   "outputs": [
    {
     "name": "stderr",
     "output_type": "stream",
     "text": [
      "'wget' 不是内部或外部命令，也不是可运行的程序\n",
      "或批处理文件。\n"
     ]
    }
   ],
   "source": [
    "# windows电脑自己手动下载即可\n",
    "# 数据集网址，自己解压至E:\\mmpose\\data目录下即可\n",
    "!wget https://zihao-download.obs.cn-east-3.myhuaweicloud.com/yolov8/datasets/Triangle_215_Dataset/Triangle_215_Keypoint_coco.zip\n",
    "\n",
    "# 下载labelme格式数据集(这个不全，仅作实验使用)\n",
    "!wget https://zihao-download.obs.cn-east-3.myhuaweicloud.com/yolov8/datasets/SJB_25_Dataset.zip"
   ]
  },
  {
   "cell_type": "markdown",
   "id": "60a0683c-a93b-43e3-bea7-c2c57d5f1c92",
   "metadata": {},
   "source": [
    "## 下载测试数据"
   ]
  },
  {
   "cell_type": "code",
   "execution_count": 4,
   "id": "bbf22f49-892f-4cc8-b3ca-e5e71f4315e8",
   "metadata": {},
   "outputs": [
    {
     "name": "stderr",
     "output_type": "stream",
     "text": [
      "命令语法不正确。\n"
     ]
    }
   ],
   "source": [
    "# 这个目录存放测试集\n",
    "!mkdir data/test_triangle"
   ]
  },
  {
   "cell_type": "code",
   "execution_count": null,
   "id": "25a8474f-17e0-40b2-93b1-0ec0bfc3fa41",
   "metadata": {},
   "outputs": [],
   "source": [
    "# windows电脑自己手动下载即可\n",
    "# 图像-30度直角三角板，拍摄：同济子豪兄、田文博\n",
    "!wget https://zihao-openmmlab.obs.myhuaweicloud.com/20220610-mmpose/triangle_dataset/test_img/triangle_1.jpg -P data/test_triangle\n",
    "!wget https://zihao-openmmlab.obs.myhuaweicloud.com/20220610-mmpose/triangle_dataset/test_img/triangle_2.jpg -P data/test_triangle\n",
    "!wget https://zihao-openmmlab.obs.myhuaweicloud.com/20220610-mmpose/triangle_dataset/test_img/triangle_3.jpg -P data/test_triangle\n",
    "!wget https://zihao-openmmlab.obs.myhuaweicloud.com/20220610-mmpose/triangle_dataset/test_img/triangle_4.jpg -P data/test_triangle\n",
    "\n",
    "# 视频-30度直角三角板，拍摄：同济子豪兄，田文博\n",
    "!wget https://zihao-openmmlab.obs.myhuaweicloud.com/20220610-mmpose/triangle_dataset/videos/triangle_6.mp4 -P data/test_triangle\n",
    "!wget https://zihao-openmmlab.obs.myhuaweicloud.com/20220610-mmpose/triangle_dataset/videos/triangle_7.mp4 -P data/test_triangle\n",
    "!wget https://zihao-openmmlab.obs.myhuaweicloud.com/20220610-mmpose/triangle_dataset/videos/triangle_9.mp4 -P data/test_triangle"
   ]
  },
  {
   "cell_type": "markdown",
   "id": "e647bdbe-f3bb-458d-8574-d2f40e85ed16",
   "metadata": {},
   "source": [
    "## 随便看一张数据集中的图片"
   ]
  },
  {
   "cell_type": "code",
   "execution_count": null,
   "id": "0c06c724-64df-43c7-b1fd-1987e1db82f6",
   "metadata": {
    "scrolled": true
   },
   "outputs": [],
   "source": [
    "from PIL import Image\n",
    "Image.open('E:\\mmpose\\data\\Triangle_215_Keypoint_coco\\images\\DSC_0373.jpg')"
   ]
  },
  {
   "cell_type": "markdown",
   "id": "3930c60c-0fe0-49b5-8e07-d8f6c9e17282",
   "metadata": {},
   "source": [
    "## 划分训练集、测试集"
   ]
  },
  {
   "cell_type": "code",
   "execution_count": 1,
   "id": "4fc1d518-bff3-46c6-aebe-846468633fb6",
   "metadata": {},
   "outputs": [
    {
     "name": "stdout",
     "output_type": "stream",
     "text": [
      "数据集文件总数 25\n",
      "训练集文件个数 20\n",
      "测试集文件个数 5\n"
     ]
    }
   ],
   "source": [
    "import os\n",
    "import shutil\n",
    "import random\n",
    "\n",
    "from tqdm import tqdm\n",
    "\n",
    "test_frac = 0.2  # 测试集比例\n",
    "random.seed(123) # 随机数种子，便于复现\n",
    "\n",
    "folder = 'E:\\mmpose\\data\\Triangle_215_Keypoint_labelme\\labelme_jsons'\n",
    "\n",
    "img_paths = os.listdir(folder)\n",
    "# print(img_paths)\n",
    "random.shuffle(img_paths) # 随机打乱\n",
    "\n",
    "val_number = int(len(img_paths) * test_frac) # 测试集文件个数\n",
    "train_files = img_paths[val_number:]         # 训练集文件名列表\n",
    "val_files = img_paths[:val_number]           # 测试集文件名列表\n",
    "\n",
    "print('数据集文件总数', len(img_paths))\n",
    "print('训练集文件个数', len(train_files))\n",
    "print('测试集文件个数', len(val_files))"
   ]
  },
  {
   "cell_type": "markdown",
   "id": "9f01d32e-ee6f-48e2-8c47-3b692c180bda",
   "metadata": {},
   "source": [
    "## 将训练集json文件移动到train_labelme_jsons文件夹"
   ]
  },
  {
   "cell_type": "code",
   "execution_count": 12,
   "id": "6f3334e5-a296-4b2d-9374-73bcdcd4b953",
   "metadata": {},
   "outputs": [
    {
     "name": "stderr",
     "output_type": "stream",
     "text": [
      "100%|██████████████████████████████████████████████████████████████████████████████████████████| 20/20 [00:00<?, ?it/s]\n"
     ]
    }
   ],
   "source": [
    "# 创建文件夹，存放训练集的 labelme格式的 json 标注文件\n",
    "# Triangle_215_Keypoint_labelme目录下一共2个文件夹，1个是images装原图，1个是labelme_jsons装.json\n",
    "# 这里将labelme_jsons中所有.json分成2类，分别创建两个文件夹装这两类文件\n",
    "train_labelme_jsons_folder = 'E:\\\\mmpose\\\\data\\\\Triangle_215_Keypoint_labelme\\\\labelme_jsons\\\\train_labelme_jsons'\n",
    "os.mkdir(train_labelme_jsons_folder)\n",
    "\n",
    "for each in tqdm(train_files):\n",
    "    src_path = os.path.join(folder, each)\n",
    "    dst_path = os.path.join(train_labelme_jsons_folder, each)\n",
    "    shutil.move(src_path, dst_path)"
   ]
  },
  {
   "cell_type": "code",
   "execution_count": 5,
   "id": "44d5c96c-af38-40d4-bd1a-e6f106b699a6",
   "metadata": {},
   "outputs": [
    {
     "data": {
      "text/plain": [
       "20"
      ]
     },
     "execution_count": 5,
     "metadata": {},
     "output_type": "execute_result"
    }
   ],
   "source": [
    "len(os.listdir(train_labelme_jsons_folder))"
   ]
  },
  {
   "cell_type": "markdown",
   "id": "95313167-7627-4a81-b2f1-097279404fd5",
   "metadata": {},
   "source": [
    "## 将测试集json文件移动到val_labelme_jsons文件夹"
   ]
  },
  {
   "cell_type": "code",
   "execution_count": 13,
   "id": "f20228e1-405a-416f-85b3-ef613780704d",
   "metadata": {},
   "outputs": [
    {
     "name": "stderr",
     "output_type": "stream",
     "text": [
      "100%|████████████████████████████████████████████████████████████████████████████████████████████| 5/5 [00:00<?, ?it/s]\n"
     ]
    }
   ],
   "source": [
    "# 创建文件夹，存放测试集的 labelme格式的 json 标注文件\n",
    "val_labelme_jsons_folder = 'E:\\\\mmpose\\\\data\\\\Triangle_215_Keypoint_labelme\\\\labelme_jsons\\\\val_labelme_jsons'\n",
    "os.mkdir(val_labelme_jsons_folder)\n",
    "\n",
    "for each in tqdm(val_files):\n",
    "    src_path = os.path.join(folder, each)\n",
    "    dst_path = os.path.join(val_labelme_jsons_folder, each)\n",
    "    shutil.move(src_path, dst_path)"
   ]
  },
  {
   "cell_type": "code",
   "execution_count": 14,
   "id": "2f6ece1a-ea6e-4fb2-823c-de62ca4094d5",
   "metadata": {},
   "outputs": [
    {
     "data": {
      "text/plain": [
       "5"
      ]
     },
     "execution_count": 14,
     "metadata": {},
     "output_type": "execute_result"
    }
   ],
   "source": [
    "len(os.listdir(val_labelme_jsons_folder))"
   ]
  },
  {
   "cell_type": "markdown",
   "id": "54a3a986-6064-425d-9367-d0148ff9a0be",
   "metadata": {},
   "source": [
    "## 指定数据集信息"
   ]
  },
  {
   "cell_type": "code",
   "execution_count": 7,
   "id": "d176756f-4e42-4bb5-9540-dc5a5957cbcb",
   "metadata": {},
   "outputs": [],
   "source": [
    "Dataset_root = 'E:\\\\mmpose\\\\data\\\\Triangle_215_Keypoint_labelme'\n",
    "\n",
    "class_list = {\n",
    "    'supercategory': 'sjb_rect',\n",
    "    'id': 1,\n",
    "    'name': 'sjb_rect',\n",
    "    'keypoints': ['angle_30', 'angle_60', 'angle_90'], # 大小写敏感\n",
    "    'skeleton':[[0,1], [0,2], [1,2]]\n",
    "}"
   ]
  },
  {
   "cell_type": "markdown",
   "id": "791551d9-1c49-45cf-8270-ee3a71f047bb",
   "metadata": {},
   "source": [
    "## 函数-处理单个labelme标注json文件"
   ]
  },
  {
   "cell_type": "code",
   "execution_count": 9,
   "id": "6138f2ff-2921-4e9e-81fa-87346efaf06f",
   "metadata": {},
   "outputs": [],
   "source": [
    "def process_single_json(labelme, image_id=1):\n",
    "    '''\n",
    "    输入labelme的json数据，输出coco格式的每个框的关键点标注信息\n",
    "    '''\n",
    "    \n",
    "    global ANN_ID\n",
    "    \n",
    "    coco_annotations = []\n",
    "    \n",
    "    for each_ann in labelme['shapes']: # 遍历该json文件中的所有标注\n",
    "\n",
    "        if each_ann['shape_type'] == 'rectangle': # 筛选出个体框\n",
    "\n",
    "            # 个体框元数据\n",
    "            bbox_dict = {}\n",
    "            bbox_dict['category_id'] = 1\n",
    "            bbox_dict['segmentation'] = []\n",
    "            \n",
    "            bbox_dict['iscrowd'] = 0\n",
    "            bbox_dict['segmentation'] = []\n",
    "            bbox_dict['image_id'] = image_id\n",
    "            bbox_dict['id'] = ANN_ID\n",
    "            # print(ANN_ID)\n",
    "            ANN_ID += 1\n",
    "\n",
    "            # 获取个体框坐标\n",
    "            bbox_left_top_x = min(int(each_ann['points'][0][0]), int(each_ann['points'][1][0]))\n",
    "            bbox_left_top_y = min(int(each_ann['points'][0][1]), int(each_ann['points'][1][1]))\n",
    "            bbox_right_bottom_x = max(int(each_ann['points'][0][0]), int(each_ann['points'][1][0]))\n",
    "            bbox_right_bottom_y = max(int(each_ann['points'][0][1]), int(each_ann['points'][1][1]))\n",
    "            bbox_w = bbox_right_bottom_x - bbox_left_top_x\n",
    "            bbox_h = bbox_right_bottom_y - bbox_left_top_y\n",
    "            bbox_dict['bbox'] = [bbox_left_top_x, bbox_left_top_y, bbox_w, bbox_h] # 左上角x、y、框的w、h\n",
    "            bbox_dict['area'] = bbox_w * bbox_h\n",
    "            \n",
    "            # 筛选出分割多段线\n",
    "            for each_ann in labelme['shapes']: # 遍历所有标注\n",
    "                if each_ann['shape_type'] == 'polygon': # 筛选出分割多段线标注\n",
    "                    # 第一个点的坐标\n",
    "                    first_x = each_ann['points'][0][0]\n",
    "                    first_y = each_ann['points'][0][1]\n",
    "                    if (first_x>bbox_left_top_x) & (first_x<bbox_right_bottom_x) & (first_y<bbox_right_bottom_y) & (first_y>bbox_left_top_y): # 筛选出在该个体框中的关键点\n",
    "                        bbox_dict['segmentation'] = list(map(lambda x: list(map(lambda y: round(y, 2), x)), each_ann['points'])) # 坐标保留两位小数\n",
    "                        # bbox_dict['segmentation'] = each_ann['points']\n",
    "\n",
    "            # 筛选出该个体框中的所有关键点\n",
    "            bbox_keypoints_dict = {}\n",
    "            for each_ann in labelme['shapes']: # 遍历所有标注\n",
    "                \n",
    "                if each_ann['shape_type'] == 'point': # 筛选出关键点标注\n",
    "                    # 关键点横纵坐标\n",
    "                    x = int(each_ann['points'][0][0])\n",
    "                    y = int(each_ann['points'][0][1])\n",
    "                    label = each_ann['label']\n",
    "                    if (x>bbox_left_top_x) & (x<bbox_right_bottom_x) & (y<bbox_right_bottom_y) & (y>bbox_left_top_y): # 筛选出在该个体框中的关键点\n",
    "                        bbox_keypoints_dict[label] = [x, y]\n",
    "                        \n",
    "            bbox_dict['num_keypoints'] = len(bbox_keypoints_dict)\n",
    "            # print(bbox_keypoints_dict)\n",
    "\n",
    "            # 把关键点按照类别顺序排好\n",
    "            bbox_dict['keypoints'] = []\n",
    "            for each_class in class_list['keypoints']:\n",
    "                if each_class in bbox_keypoints_dict:\n",
    "                    bbox_dict['keypoints'].append(bbox_keypoints_dict[each_class][0])\n",
    "                    bbox_dict['keypoints'].append(bbox_keypoints_dict[each_class][1])\n",
    "                    bbox_dict['keypoints'].append(2) # 2-可见不遮挡 1-遮挡 0-没有点\n",
    "                else: # 不存在的点，一律为0\n",
    "                    bbox_dict['keypoints'].append(0)\n",
    "                    bbox_dict['keypoints'].append(0)\n",
    "                    bbox_dict['keypoints'].append(0)\n",
    "                    \n",
    "            coco_annotations.append(bbox_dict)\n",
    "            \n",
    "    return coco_annotations"
   ]
  },
  {
   "cell_type": "markdown",
   "id": "4ce10819-a7c6-4037-8921-ebf72166088c",
   "metadata": {},
   "source": [
    "## 函数-转换当前目录下所有labelme格式的json文件"
   ]
  },
  {
   "cell_type": "code",
   "execution_count": 10,
   "id": "15212e99-b831-4014-aff3-3ddb057d878d",
   "metadata": {},
   "outputs": [],
   "source": [
    "def process_folder():\n",
    "    IMG_ID = 0\n",
    "    ANN_ID = 0\n",
    "\n",
    "    # 遍历所有 labelme 格式的 json 文件\n",
    "    for labelme_json in os.listdir(): \n",
    "\n",
    "        if labelme_json.split('.')[-1] == 'json':\n",
    "\n",
    "            with open(labelme_json, 'r', encoding='utf-8') as f:\n",
    "\n",
    "                labelme = json.load(f)\n",
    "\n",
    "                ## 提取图像元数据\n",
    "                img_dict = {}\n",
    "                img_dict['file_name'] = labelme['imagePath']\n",
    "                img_dict['height'] = labelme['imageHeight']\n",
    "                img_dict['width'] = labelme['imageWidth']\n",
    "                img_dict['id'] = IMG_ID\n",
    "                coco['images'].append(img_dict)\n",
    "\n",
    "                ## 提取框和关键点信息\n",
    "                coco_annotations = process_single_json(labelme, image_id=IMG_ID)\n",
    "                coco['annotations'] += coco_annotations\n",
    "\n",
    "                IMG_ID += 1\n",
    "\n",
    "                print(labelme_json, '已处理完毕')\n",
    "\n",
    "        else:\n",
    "            pass"
   ]
  },
  {
   "cell_type": "markdown",
   "id": "81ceb7a6-5aff-4e01-a5c3-24e3bd1100db",
   "metadata": {},
   "source": [
    "## 转换训练集的所有labelme标注文件"
   ]
  },
  {
   "cell_type": "code",
   "execution_count": 12,
   "id": "48fe2472-b7e2-4d6e-a345-44c5ba6f1610",
   "metadata": {},
   "outputs": [],
   "source": [
    "import os\n",
    "import json\n",
    "import numpy as np\n",
    "\n",
    "coco = {} # 暂时存放所有json文件整合后的coco格式标签信息\n",
    "\n",
    "coco['categories'] = []\n",
    "coco['categories'].append(class_list)\n",
    "\n",
    "coco['images'] = []\n",
    "coco['annotations'] = []\n",
    "\n",
    "IMG_ID = 0\n",
    "ANN_ID = 0\n",
    "\n",
    "path = os.path.join(Dataset_root, 'labelme_jsons', 'train_labelme_jsons')\n",
    "os.chdir(path)"
   ]
  },
  {
   "cell_type": "code",
   "execution_count": null,
   "id": "194d4d07-a882-45a9-b0a8-dddf8545396c",
   "metadata": {},
   "outputs": [],
   "source": [
    "process_folder()"
   ]
  },
  {
   "cell_type": "code",
   "execution_count": 14,
   "id": "66baa553-d9ab-4ac9-9b11-3b85616461b7",
   "metadata": {},
   "outputs": [],
   "source": [
    "# 保存coco标注文件\n",
    "coco_path = '../../train_coco.json'\n",
    "with open(coco_path, 'w') as f:\n",
    "    json.dump(coco, f, indent=2)\n",
    "    \n",
    "os.chdir('../../')"
   ]
  },
  {
   "cell_type": "markdown",
   "id": "d9e014dd-b510-411b-8936-2ef04d86d64e",
   "metadata": {},
   "source": [
    "## 验证训练集的MS COCO格式标注"
   ]
  },
  {
   "cell_type": "code",
   "execution_count": 19,
   "id": "a65ef0c6-c36e-4276-a8b1-a92146491595",
   "metadata": {},
   "outputs": [
    {
     "data": {
      "text/plain": [
       "['images', 'labelme_jsons', 'train_coco.json']"
      ]
     },
     "execution_count": 19,
     "metadata": {},
     "output_type": "execute_result"
    }
   ],
   "source": [
    "os.listdir()"
   ]
  },
  {
   "cell_type": "code",
   "execution_count": 17,
   "id": "25f48e40-3c7a-47e2-8f29-b4d5c487c3fe",
   "metadata": {},
   "outputs": [
    {
     "name": "stdout",
     "output_type": "stream",
     "text": [
      "loading annotations into memory...\n",
      "Done (t=0.00s)\n",
      "creating index...\n",
      "index created!\n"
     ]
    }
   ],
   "source": [
    "from pycocotools.coco import COCO\n",
    "my_coco = COCO('train_coco.json')"
   ]
  },
  {
   "cell_type": "markdown",
   "id": "ed25fdcc-3a7c-48f3-b825-8512afbadf57",
   "metadata": {},
   "source": [
    "## 转换测试集的所有labelme标注文件"
   ]
  },
  {
   "cell_type": "code",
   "execution_count": 20,
   "id": "21f69f77-3ac8-4e94-955e-d6ae8b1ec8e3",
   "metadata": {},
   "outputs": [],
   "source": [
    "coco = {}\n",
    "\n",
    "coco['categories'] = []\n",
    "coco['categories'].append(class_list)\n",
    "\n",
    "coco['images'] = []\n",
    "coco['annotations'] = []\n",
    "\n",
    "IMG_ID = 0\n",
    "ANN_ID = 0\n",
    "\n",
    "path = os.path.join('labelme_jsons', 'val_labelme_jsons')\n",
    "os.chdir(path)"
   ]
  },
  {
   "cell_type": "code",
   "execution_count": 21,
   "id": "3078ff5b-e5b2-4d64-9b72-a3f33e67f80e",
   "metadata": {},
   "outputs": [
    {
     "name": "stdout",
     "output_type": "stream",
     "text": [
      "DSC_0245.json 已处理完毕\n",
      "DSC_0260.json 已处理完毕\n",
      "DSC_0265.json 已处理完毕\n",
      "DSC_0274.json 已处理完毕\n",
      "DSC_0280.json 已处理完毕\n"
     ]
    }
   ],
   "source": [
    "process_folder()"
   ]
  },
  {
   "cell_type": "code",
   "execution_count": 22,
   "id": "2454c870-823c-48a2-b023-ba69350b5018",
   "metadata": {},
   "outputs": [],
   "source": [
    "# 保存coco标注文件\n",
    "coco_path = '../../val_coco.json'\n",
    "with open(coco_path, 'w') as f:\n",
    "    json.dump(coco, f, indent=2)\n",
    "    \n",
    "os.chdir('../../')"
   ]
  },
  {
   "cell_type": "markdown",
   "id": "d7a71dd1-0d0f-4e53-8d91-2b4ab39e3174",
   "metadata": {},
   "source": [
    "## 验证测试集的MS COCO格式标注"
   ]
  },
  {
   "cell_type": "code",
   "execution_count": 23,
   "id": "93b3d9d4-a14a-4f28-85fd-99d70165297e",
   "metadata": {},
   "outputs": [
    {
     "name": "stdout",
     "output_type": "stream",
     "text": [
      "loading annotations into memory...\n",
      "Done (t=0.00s)\n",
      "creating index...\n",
      "index created!\n"
     ]
    }
   ],
   "source": [
    "from pycocotools.coco import COCO\n",
    "my_coco = COCO('val_coco.json')\n",
    "\n",
    "# 之后记得手动删除之前旧的格式数据"
   ]
  },
  {
   "cell_type": "code",
   "execution_count": null,
   "id": "28eb8b69-67d0-4791-afee-46a809caf44a",
   "metadata": {},
   "outputs": [],
   "source": []
  }
 ],
 "metadata": {
  "kernelspec": {
   "display_name": "openmmlab",
   "language": "python",
   "name": "openmmlab"
  },
  "language_info": {
   "codemirror_mode": {
    "name": "ipython",
    "version": 3
   },
   "file_extension": ".py",
   "mimetype": "text/x-python",
   "name": "python",
   "nbconvert_exporter": "python",
   "pygments_lexer": "ipython3",
   "version": "3.8.16"
  }
 },
 "nbformat": 4,
 "nbformat_minor": 5
}
